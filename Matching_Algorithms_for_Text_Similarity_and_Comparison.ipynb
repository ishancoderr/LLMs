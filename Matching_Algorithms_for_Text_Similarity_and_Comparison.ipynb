{
  "nbformat": 4,
  "nbformat_minor": 0,
  "metadata": {
    "colab": {
      "provenance": [],
      "authorship_tag": "ABX9TyOtTbi2x/LTHN+xySZfdgHL",
      "include_colab_link": true
    },
    "kernelspec": {
      "name": "python3",
      "display_name": "Python 3"
    },
    "language_info": {
      "name": "python"
    }
  },
  "cells": [
    {
      "cell_type": "markdown",
      "metadata": {
        "id": "view-in-github",
        "colab_type": "text"
      },
      "source": [
        "<a href=\"https://colab.research.google.com/github/ishancoderr/LLMs/blob/main/Matching_Algorithms_for_Text_Similarity_and_Comparison.ipynb\" target=\"_parent\"><img src=\"https://colab.research.google.com/assets/colab-badge.svg\" alt=\"Open In Colab\"/></a>"
      ]
    },
    {
      "cell_type": "code",
      "execution_count": 5,
      "metadata": {
        "colab": {
          "base_uri": "https://localhost:8080/"
        },
        "id": "kIYsAfIhKlwR",
        "outputId": "a590405c-c33e-4204-d3eb-91f168fafc38"
      },
      "outputs": [
        {
          "output_type": "stream",
          "name": "stdout",
          "text": [
            "Collecting rapidfuzz\n",
            "  Downloading rapidfuzz-3.11.0-cp310-cp310-manylinux_2_17_x86_64.manylinux2014_x86_64.whl.metadata (11 kB)\n",
            "Downloading rapidfuzz-3.11.0-cp310-cp310-manylinux_2_17_x86_64.manylinux2014_x86_64.whl (3.1 MB)\n",
            "\u001b[?25l   \u001b[90m━━━━━━━━━━━━━━━━━━━━━━━━━━━━━━━━━━━━━━━━\u001b[0m \u001b[32m0.0/3.1 MB\u001b[0m \u001b[31m?\u001b[0m eta \u001b[36m-:--:--\u001b[0m\r\u001b[2K   \u001b[91m━━━━━━━━━━━━━━━━━━━━━━━━━━━━━━━━━━━━━━━\u001b[0m\u001b[91m╸\u001b[0m \u001b[32m3.1/3.1 MB\u001b[0m \u001b[31m109.0 MB/s\u001b[0m eta \u001b[36m0:00:01\u001b[0m\r\u001b[2K   \u001b[90m━━━━━━━━━━━━━━━━━━━━━━━━━━━━━━━━━━━━━━━━\u001b[0m \u001b[32m3.1/3.1 MB\u001b[0m \u001b[31m57.2 MB/s\u001b[0m eta \u001b[36m0:00:00\u001b[0m\n",
            "\u001b[?25hInstalling collected packages: rapidfuzz\n",
            "Successfully installed rapidfuzz-3.11.0\n"
          ]
        }
      ],
      "source": [
        "!pip install rapidfuzz"
      ]
    },
    {
      "cell_type": "code",
      "source": [
        "!pip install textdistance"
      ],
      "metadata": {
        "colab": {
          "base_uri": "https://localhost:8080/"
        },
        "id": "6ziLMecwZ3xZ",
        "outputId": "09c94e3e-74fa-44e2-dea9-13598e638d78"
      },
      "execution_count": 10,
      "outputs": [
        {
          "output_type": "stream",
          "name": "stdout",
          "text": [
            "Collecting textdistance\n",
            "  Downloading textdistance-4.6.3-py3-none-any.whl.metadata (18 kB)\n",
            "Downloading textdistance-4.6.3-py3-none-any.whl (31 kB)\n",
            "Installing collected packages: textdistance\n",
            "Successfully installed textdistance-4.6.3\n"
          ]
        }
      ]
    },
    {
      "cell_type": "code",
      "source": [
        "import time\n",
        "import numpy as np\n",
        "from rapidfuzz import fuzz\n",
        "from sklearn.feature_extraction.text import TfidfVectorizer\n",
        "from sklearn.metrics.pairwise import cosine_similarity\n",
        "import textdistance\n",
        "from sentence_transformers import SentenceTransformer, util\n",
        "\n",
        "# Set random seed for reproducibility\n",
        "np.random.seed(42)\n",
        "\n",
        "# Example strings for comparison (20 different pairs)\n",
        "strings = [\n",
        "    (\"United State of America\", \"USA\"),\n",
        "    (\"Ishan Weerakoon\", \"Ishan Thathsara Weerakoon\"),\n",
        "    (\"New York\", \"NY\"),\n",
        "    (\"California\", \"CA\"),\n",
        "    (\"Machine Learning\", \"AI\"),\n",
        "    (\"Artificial Intelligence\", \"Machine Learning\"),\n",
        "    (\"Python Programming\", \"Java Programming\"),\n",
        "    (\"Deep Learning\", \"Neural Networks\"),\n",
        "    (\"Geospatial Data\", \"GIS\"),\n",
        "    (\"Data Science\", \"Big Data\"),\n",
        "    (\"Data Visualization\", \"Data Analytics\"),\n",
        "    (\"Natural Language Processing\", \"Speech Recognition\"),\n",
        "    (\"Computer Vision\", \"Image Processing\"),\n",
        "    (\"Blockchain\", \"Cryptocurrency\"),\n",
        "    (\"Cloud Computing\", \"Distributed Systems\"),\n",
        "    (\"Internet of Things\", \"IoT\"),\n",
        "    (\"Cybersecurity\", \"Information Security\"),\n",
        "    (\"Software Engineering\", \"System Development\"),\n",
        "    (\"Quantum Computing\", \"Quantum Algorithms\"),\n",
        "    (\"Robotics\", \"Automation\")\n",
        "]\n",
        "\n",
        "# Load SentenceTransformer model\n",
        "model = SentenceTransformer('all-MiniLM-L6-v2')\n",
        "\n",
        "# Measure time and compare models for each string pair\n",
        "for text1, text2 in strings:\n",
        "    print(f\"\\nComparing: {text1} vs {text2}\")\n",
        "\n",
        "    # **RapidFuzz**\n",
        "    start = time.time()\n",
        "    fuzzy_score = fuzz.ratio(text1, text2)\n",
        "    rapidfuzz_time = time.time() - start\n",
        "    print(f\"RapidFuzz Score: {fuzzy_score} | Time: {rapidfuzz_time:.6f} sec\")\n",
        "\n",
        "    # **Cosine Similarity with TF-IDF**\n",
        "    start = time.time()\n",
        "    documents = [text1, text2]\n",
        "    tfidf = TfidfVectorizer()\n",
        "    vectors = tfidf.fit_transform(documents)\n",
        "    cosine_sim = cosine_similarity(vectors[0], vectors[1])\n",
        "    cosine_time = time.time() - start\n",
        "    print(f\"Cosine Similarity (TF-IDF): {cosine_sim[0][0]} | Time: {cosine_time:.6f} sec\")\n",
        "\n",
        "    # **TextDistance (Damerau-Levenshtein)**\n",
        "    start = time.time()\n",
        "    distance = textdistance.damerau_levenshtein.normalized_similarity(text1, text2)\n",
        "    textdistance_time = time.time() - start\n",
        "    print(f\"TextDistance Similarity: {distance} | Time: {textdistance_time:.6f} sec\")\n",
        "\n",
        "    # **SentenceTransformers (Semantic Similarity)**\n",
        "    start = time.time()\n",
        "    emb1 = model.encode(text1)\n",
        "    emb2 = model.encode(text2)\n",
        "    similarity = util.cos_sim(emb1, emb2)\n",
        "    sentence_transformers_time = time.time() - start\n",
        "    print(f\"Semantic Similarity: {similarity.item()} | Time: {sentence_transformers_time:.6f} sec\")"
      ],
      "metadata": {
        "colab": {
          "base_uri": "https://localhost:8080/"
        },
        "id": "KrXeZAOdcciL",
        "outputId": "14d11bd8-dceb-4b55-c91d-aa4e84bc1646"
      },
      "execution_count": 18,
      "outputs": [
        {
          "output_type": "stream",
          "name": "stdout",
          "text": [
            "\n",
            "Comparing: United State of America vs USA\n",
            "RapidFuzz Score: 23.076923076923073 | Time: 0.000018 sec\n",
            "Cosine Similarity (TF-IDF): 0.0 | Time: 0.006275 sec\n",
            "TextDistance Similarity: 0.13043478260869568 | Time: 0.000094 sec\n",
            "Semantic Similarity: 0.6735268831253052 | Time: 0.056481 sec\n",
            "\n",
            "Comparing: Ishan Weerakoon vs Ishan Thathsara Weerakoon\n",
            "RapidFuzz Score: 75.0 | Time: 0.000012 sec\n",
            "Cosine Similarity (TF-IDF): 0.7092972666062739 | Time: 0.006552 sec\n",
            "TextDistance Similarity: 0.6 | Time: 0.000074 sec\n",
            "Semantic Similarity: 0.9155293703079224 | Time: 0.098614 sec\n",
            "\n",
            "Comparing: New York vs NY\n",
            "RapidFuzz Score: 40.0 | Time: 0.000012 sec\n",
            "Cosine Similarity (TF-IDF): 0.0 | Time: 0.011745 sec\n",
            "TextDistance Similarity: 0.25 | Time: 0.000077 sec\n",
            "Semantic Similarity: 0.8770714402198792 | Time: 0.092146 sec\n",
            "\n",
            "Comparing: California vs CA\n",
            "RapidFuzz Score: 16.666666666666664 | Time: 0.000014 sec\n",
            "Cosine Similarity (TF-IDF): 0.0 | Time: 0.004665 sec\n",
            "TextDistance Similarity: 0.09999999999999998 | Time: 0.000070 sec\n",
            "Semantic Similarity: 0.8182401657104492 | Time: 0.048297 sec\n",
            "\n",
            "Comparing: Machine Learning vs AI\n",
            "RapidFuzz Score: 0.0 | Time: 0.000014 sec\n",
            "Cosine Similarity (TF-IDF): 0.0 | Time: 0.004726 sec\n",
            "TextDistance Similarity: 0.0 | Time: 0.000070 sec\n",
            "Semantic Similarity: 0.5463714599609375 | Time: 0.048506 sec\n",
            "\n",
            "Comparing: Artificial Intelligence vs Machine Learning\n",
            "RapidFuzz Score: 30.76923076923077 | Time: 0.000015 sec\n",
            "Cosine Similarity (TF-IDF): 0.0 | Time: 0.004721 sec\n",
            "TextDistance Similarity: 0.17391304347826086 | Time: 0.000080 sec\n",
            "Semantic Similarity: 0.7034627199172974 | Time: 0.127852 sec\n",
            "\n",
            "Comparing: Python Programming vs Java Programming\n",
            "RapidFuzz Score: 70.58823529411764 | Time: 0.000012 sec\n",
            "Cosine Similarity (TF-IDF): 0.33609692727625756 | Time: 0.011443 sec\n",
            "TextDistance Similarity: 0.6666666666666667 | Time: 0.000077 sec\n",
            "Semantic Similarity: 0.512253999710083 | Time: 0.050908 sec\n",
            "\n",
            "Comparing: Deep Learning vs Neural Networks\n",
            "RapidFuzz Score: 28.57142857142857 | Time: 0.000013 sec\n",
            "Cosine Similarity (TF-IDF): 0.0 | Time: 0.006122 sec\n",
            "TextDistance Similarity: 0.19999999999999996 | Time: 0.000070 sec\n",
            "Semantic Similarity: 0.7546783685684204 | Time: 0.048669 sec\n",
            "\n",
            "Comparing: Geospatial Data vs GIS\n",
            "RapidFuzz Score: 11.111111111111116 | Time: 0.000013 sec\n",
            "Cosine Similarity (TF-IDF): 0.0 | Time: 0.007057 sec\n",
            "TextDistance Similarity: 0.06666666666666665 | Time: 0.000074 sec\n",
            "Semantic Similarity: 0.29592832922935486 | Time: 0.062684 sec\n",
            "\n",
            "Comparing: Data Science vs Big Data\n",
            "RapidFuzz Score: 40.0 | Time: 0.000015 sec\n",
            "Cosine Similarity (TF-IDF): 0.33609692727625756 | Time: 0.004785 sec\n",
            "TextDistance Similarity: 0.08333333333333337 | Time: 0.000072 sec\n",
            "Semantic Similarity: 0.6253911256790161 | Time: 0.054726 sec\n",
            "\n",
            "Comparing: Data Visualization vs Data Analytics\n",
            "RapidFuzz Score: 56.25 | Time: 0.000014 sec\n",
            "Cosine Similarity (TF-IDF): 0.33609692727625756 | Time: 0.004827 sec\n",
            "TextDistance Similarity: 0.5 | Time: 0.000074 sec\n",
            "Semantic Similarity: 0.5603060126304626 | Time: 0.050102 sec\n",
            "\n",
            "Comparing: Natural Language Processing vs Speech Recognition\n",
            "RapidFuzz Score: 22.22222222222222 | Time: 0.000024 sec\n",
            "Cosine Similarity (TF-IDF): 0.0 | Time: 0.004621 sec\n",
            "TextDistance Similarity: 0.14814814814814814 | Time: 0.000073 sec\n",
            "Semantic Similarity: 0.4481136202812195 | Time: 0.055537 sec\n",
            "\n",
            "Comparing: Computer Vision vs Image Processing\n",
            "RapidFuzz Score: 38.70967741935484 | Time: 0.000014 sec\n",
            "Cosine Similarity (TF-IDF): 0.0 | Time: 0.004604 sec\n",
            "TextDistance Similarity: 0.1875 | Time: 0.000074 sec\n",
            "Semantic Similarity: 0.6832850575447083 | Time: 0.060836 sec\n",
            "\n",
            "Comparing: Blockchain vs Cryptocurrency\n",
            "RapidFuzz Score: 25.0 | Time: 0.000014 sec\n",
            "Cosine Similarity (TF-IDF): 0.0 | Time: 0.004786 sec\n",
            "TextDistance Similarity: 0.1428571428571429 | Time: 0.000072 sec\n",
            "Semantic Similarity: 0.6347827911376953 | Time: 0.063851 sec\n",
            "\n",
            "Comparing: Cloud Computing vs Distributed Systems\n",
            "RapidFuzz Score: 23.529411764705888 | Time: 0.000013 sec\n",
            "Cosine Similarity (TF-IDF): 0.0 | Time: 0.006420 sec\n",
            "TextDistance Similarity: 0.10526315789473684 | Time: 0.000071 sec\n",
            "Semantic Similarity: 0.492274671792984 | Time: 0.050488 sec\n",
            "\n",
            "Comparing: Internet of Things vs IoT\n",
            "RapidFuzz Score: 28.57142857142857 | Time: 0.000014 sec\n",
            "Cosine Similarity (TF-IDF): 0.0 | Time: 0.004872 sec\n",
            "TextDistance Similarity: 0.16666666666666663 | Time: 0.000074 sec\n",
            "Semantic Similarity: 0.7892196178436279 | Time: 0.071434 sec\n",
            "\n",
            "Comparing: Cybersecurity vs Information Security\n",
            "RapidFuzz Score: 48.484848484848484 | Time: 0.000014 sec\n",
            "Cosine Similarity (TF-IDF): 0.0 | Time: 0.005356 sec\n",
            "TextDistance Similarity: 0.4 | Time: 0.000073 sec\n",
            "Semantic Similarity: 0.6542270183563232 | Time: 0.057036 sec\n",
            "\n",
            "Comparing: Software Engineering vs System Development\n",
            "RapidFuzz Score: 36.8421052631579 | Time: 0.000014 sec\n",
            "Cosine Similarity (TF-IDF): 0.0 | Time: 0.006421 sec\n",
            "TextDistance Similarity: 0.19999999999999996 | Time: 0.000072 sec\n",
            "Semantic Similarity: 0.5478730201721191 | Time: 0.091683 sec\n",
            "\n",
            "Comparing: Quantum Computing vs Quantum Algorithms\n",
            "RapidFuzz Score: 57.14285714285714 | Time: 0.000014 sec\n",
            "Cosine Similarity (TF-IDF): 0.33609692727625756 | Time: 0.012398 sec\n",
            "TextDistance Similarity: 0.5 | Time: 0.000078 sec\n",
            "Semantic Similarity: 0.8476635813713074 | Time: 0.105568 sec\n",
            "\n",
            "Comparing: Robotics vs Automation\n",
            "RapidFuzz Score: 33.333333333333336 | Time: 0.000014 sec\n",
            "Cosine Similarity (TF-IDF): 0.0 | Time: 0.017994 sec\n",
            "TextDistance Similarity: 0.30000000000000004 | Time: 0.000082 sec\n",
            "Semantic Similarity: 0.48890024423599243 | Time: 0.058469 sec\n"
          ]
        }
      ]
    },
    {
      "cell_type": "markdown",
      "source": [
        "### Model Comparison Summary\n",
        "\n",
        "#### **RapidFuzz**:\n",
        "- **Best for speed with short, direct strings**.\n",
        "- This model is ideal when **speed** is the top priority, especially when dealing with **short, direct strings**. It provides fast comparisons and reasonable similarity scores for simpler text matches.\n",
        "\n",
        "#### **Cosine Similarity (TF-IDF)**:\n",
        "- **Best for comparing documents and word significance**.\n",
        "- This model is suitable when comparing **larger, document-like content**. It focuses on capturing the **occurrence and significance** of words and is more effective in scenarios where document-level comparisons are necessary.\n",
        "\n",
        "#### **TextDistance (Edit Distance)**:\n",
        "- **Best for handling minor text differences or typos**.\n",
        "- TextDistance is effective in scenarios where there are **minor variations or typos** between two strings. It measures the similarity based on how many edits (insertions, deletions, substitutions) are needed to convert one string into another.\n",
        "\n",
        "#### **Semantic Similarity (Sentence Transformers)**:\n",
        "- **Best for capturing semantic meaning**.\n",
        "- This method excels at comparing strings with different wordings but **similar meanings**. It's the most **robust model for semantic similarity**, providing meaningful similarity scores even when phrases differ significantly in structure or vocabulary. However, it is **slower** than the other models."
      ],
      "metadata": {
        "id": "xYwcdXZHj9Kk"
      }
    }
  ]
}